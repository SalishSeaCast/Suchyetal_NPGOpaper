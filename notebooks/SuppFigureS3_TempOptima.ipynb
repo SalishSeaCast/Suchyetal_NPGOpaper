{
 "cells": [
  {
   "cell_type": "markdown",
   "metadata": {},
   "source": [
    "#### Based on Elise Olson's https://github.com/SalishSeaCast/analysis-elise-2/blob/master/notebooks/modelEqs/NewRateComparison.ipynb notebook"
   ]
  },
  {
   "cell_type": "code",
   "execution_count": 1,
   "metadata": {},
   "outputs": [],
   "source": [
    "import numpy as np\n",
    "import netCDF4 as nc\n",
    "import matplotlib.pyplot as plt\n",
    "from salishsea_tools import bio_tools as bt, places\n",
    "import xarray as xr\n",
    "import os\n",
    "import glob\n",
    "%matplotlib inline"
   ]
  },
  {
   "cell_type": "code",
   "execution_count": 2,
   "metadata": {},
   "outputs": [],
   "source": [
    "nml=bt.load_nml_bio(resDir='/ocean/eolson/MEOPAR/NEMO-3.6-code/NEMOGCM/CONFIG/SalishSeaCast/EXP00/',\n",
    "                 nmlname='nampisprod',bioRefName='namelist_smelt_cfg_HC201905equiv',bioCfgName='namelist_smelt_cfg_HC201905equiv')"
   ]
  },
  {
   "cell_type": "code",
   "execution_count": 3,
   "metadata": {},
   "outputs": [
    {
     "data": {
      "text/plain": [
       "Namelist([('zz_rate_r_diat', 6.0495e-05),\n",
       "          ('zz_rate_r_myri', 2.22e-05),\n",
       "          ('zz_rate_r_nano', 2.109e-05),\n",
       "          ('zz_rate_maxtemp_diat', 26.0),\n",
       "          ('zz_rate_maxtemp_myri', 31.0),\n",
       "          ('zz_rate_maxtemp_nano', 31.0),\n",
       "          ('zz_rate_temprange_diat', 14.0),\n",
       "          ('zz_rate_temprange_myri', 13.0),\n",
       "          ('zz_rate_temprange_nano', 13.0),\n",
       "          ('zz_rate_iopt_diat', 45.0),\n",
       "          ('zz_rate_iopt_myri', 37.0),\n",
       "          ('zz_rate_iopt_nano', 10.0),\n",
       "          ('zz_rate_gamma_diat', 0.0),\n",
       "          ('zz_rate_gamma_myri', 0.0),\n",
       "          ('zz_rate_gamma_nano', 0.0),\n",
       "          ('zz_rate_k_si_diat', 2.2),\n",
       "          ('zz_rate_k_si_myri', 0.0),\n",
       "          ('zz_rate_k_si_nano', 0.0),\n",
       "          ('zz_rate_kapa_diat', 1.0),\n",
       "          ('zz_rate_kapa_myri', 0.5),\n",
       "          ('zz_rate_kapa_nano', 0.3),\n",
       "          ('zz_rate_k_diat', 2.0),\n",
       "          ('zz_rate_k_myri', 0.5),\n",
       "          ('zz_rate_k_nano', 0.2),\n",
       "          ('zz_rate_si_ratio_diat', 1.8),\n",
       "          ('zz_rate_si_ratio_myri', 0.0),\n",
       "          ('zz_rate_si_ratio_nano', 0.0)])"
      ]
     },
     "execution_count": 3,
     "metadata": {},
     "output_type": "execute_result"
    }
   ],
   "source": [
    "nml"
   ]
  },
  {
   "cell_type": "code",
   "execution_count": 4,
   "metadata": {},
   "outputs": [],
   "source": [
    "nml2=bt.load_nml_bio(resDir='/data/sallen/results/MEOPAR/Karyn/01jan08_tsc/',\n",
    "                 nmlname='nampisprod',bioRefName='namelist_smelt_cfg',bioCfgName='namelist_smelt_cfg')"
   ]
  },
  {
   "cell_type": "code",
   "execution_count": 5,
   "metadata": {},
   "outputs": [],
   "source": [
    "def phyto_Tdep_Factor(TT, zz_rate_maxtemp, zz_rate_temprange):\n",
    "    if hasattr(TT,'__len__'): # assume 1-d array or similar and return array\n",
    "        return np.array([phyto_Tdep_Factor(el,zz_rate_maxtemp, zz_rate_temprange) for el in TT])\n",
    "    else:\n",
    "        return np.exp(0.07 * (TT - 20)) * min(max((zz_rate_maxtemp - TT), 0.0),zz_rate_temprange) / (zz_rate_temprange + 1e-10)"
   ]
  },
  {
   "cell_type": "code",
   "execution_count": 6,
   "metadata": {},
   "outputs": [],
   "source": [
    "def calc_T_Factors(TT,nampisprod):\n",
    "    Tdep_Diat=phyto_Tdep_Factor(TT,nampisprod['zz_rate_maxtemp_diat'],nampisprod['zz_rate_temprange_diat'])\n",
    "    #Tdep_DiatEXP=phyto_Tdep_FactorEXP(TT,nampisprod['zz_rate_maxtemp_diat'],nampisprod['zz_rate_temprange_diat'])\n",
    "    Tdep_Nano=phyto_Tdep_Factor(TT,nampisprod['zz_rate_maxtemp_nano'],nampisprod['zz_rate_temprange_nano'])\n",
    "    return Tdep_Diat,  Tdep_Nano"
   ]
  },
  {
   "cell_type": "code",
   "execution_count": 7,
   "metadata": {},
   "outputs": [],
   "source": [
    "t=np.linspace(0,35,60)"
   ]
  },
  {
   "cell_type": "code",
   "execution_count": 8,
   "metadata": {},
   "outputs": [],
   "source": [
    "TdepDExp=calc_T_Factors(t,nml2)"
   ]
  },
  {
   "cell_type": "code",
   "execution_count": 9,
   "metadata": {},
   "outputs": [
    {
     "data": {
      "text/plain": [
       "(array([0.24659696, 0.25705259, 0.26795154, 0.27931259, 0.29115535,\n",
       "        0.30350024, 0.31636855, 0.32978247, 0.34376513, 0.35834066,\n",
       "        0.37353418, 0.3893719 , 0.40588114, 0.42309037, 0.44102926,\n",
       "        0.45972875, 0.47922109, 0.4995399 , 0.52072023, 0.54279859,\n",
       "        0.56581307, 0.58980335, 0.61481081, 0.64087859, 0.66805162,\n",
       "        0.69637679, 0.7039325 , 0.70171625, 0.69804658, 0.69280422,\n",
       "        0.68586242, 0.67708648, 0.66633336, 0.65345115, 0.63827866,\n",
       "        0.62064481, 0.60036818, 0.57725635, 0.55110535, 0.52169901,\n",
       "        0.48880829, 0.45219059, 0.41158898, 0.36673147, 0.31733015,\n",
       "        0.26308034, 0.20365971, 0.1387273 , 0.06792255, 0.        ,\n",
       "        0.        , 0.        , 0.        , 0.        , 0.        ,\n",
       "        0.        , 0.        , 0.        , 0.        , 0.        ]),\n",
       " array([0.24659696, 0.25705259, 0.26795154, 0.27931259, 0.29115535,\n",
       "        0.30350024, 0.31636855, 0.32978247, 0.34376513, 0.35834066,\n",
       "        0.37353418, 0.3893719 , 0.40588114, 0.42309037, 0.44102926,\n",
       "        0.45972875, 0.47922109, 0.4995399 , 0.52072023, 0.54279859,\n",
       "        0.56581307, 0.58980335, 0.61481081, 0.64087859, 0.66805162,\n",
       "        0.69637679, 0.72590293, 0.75668097, 0.78876398, 0.82220731,\n",
       "        0.85706862, 0.86661745, 0.86086488, 0.85306656, 0.84305933,\n",
       "        0.83066992, 0.8157143 , 0.79799712, 0.77731111, 0.75343636,\n",
       "        0.72613965, 0.69517371, 0.66027648, 0.62117026, 0.57756085,\n",
       "        0.5291367 , 0.47556791, 0.41650528, 0.35157924, 0.28039875,\n",
       "        0.20255015, 0.11759596, 0.02507359, 0.        , 0.        ,\n",
       "        0.        , 0.        , 0.        , 0.        , 0.        ]))"
      ]
     },
     "execution_count": 9,
     "metadata": {},
     "output_type": "execute_result"
    }
   ],
   "source": [
    "TdepDExp"
   ]
  },
  {
   "cell_type": "code",
   "execution_count": 10,
   "metadata": {},
   "outputs": [],
   "source": [
    "TdepD,TdepF=calc_T_Factors(t,nml)"
   ]
  },
  {
   "cell_type": "code",
   "execution_count": 11,
   "metadata": {},
   "outputs": [
    {
     "data": {
      "text/plain": [
       "array([0.24659696, 0.25705259, 0.26795154, 0.27931259, 0.29115535,\n",
       "       0.30350024, 0.31636855, 0.32978247, 0.34376513, 0.35834066,\n",
       "       0.37353418, 0.3893719 , 0.40588114, 0.42309037, 0.44102926,\n",
       "       0.45972875, 0.47922109, 0.4995399 , 0.52072023, 0.54279859,\n",
       "       0.56581307, 0.57052406, 0.56866279, 0.56561803, 0.56129277,\n",
       "       0.5555839 , 0.54838187, 0.53957033, 0.52902572, 0.51661694,\n",
       "       0.50220486, 0.4856419 , 0.46677159, 0.44542803, 0.42143543,\n",
       "       0.39460751, 0.36474696, 0.33164487, 0.29508003, 0.2548183 ,\n",
       "       0.21061193, 0.1621988 , 0.10930164, 0.05162725, 0.        ,\n",
       "       0.        , 0.        , 0.        , 0.        , 0.        ,\n",
       "       0.        , 0.        , 0.        , 0.        , 0.        ,\n",
       "       0.        , 0.        , 0.        , 0.        , 0.        ])"
      ]
     },
     "execution_count": 11,
     "metadata": {},
     "output_type": "execute_result"
    }
   ],
   "source": [
    "TdepD"
   ]
  },
  {
   "cell_type": "code",
   "execution_count": 12,
   "metadata": {},
   "outputs": [
    {
     "data": {
      "image/png": "[encoded data removed]",
      "text/plain": [
       "<Figure size 500x400 with 1 Axes>"
      ]
     },
     "metadata": {},
     "output_type": "display_data"
    }
   ],
   "source": [
    "fig,ax=plt.subplots(figsize=(5,4))\n",
    "\n",
    "\n",
    "\n",
    "plt.plot(t,TdepD,'b-',label='Diatoms')\n",
    "plt.plot(t,TdepDExp[0],'b--',label='Diatoms Exp 3 & 4')\n",
    "plt.plot(t,TdepF,'r-',label='Nanoflagellates')\n",
    "#plt.title('Temperature response of diatoms and flagellates')\n",
    "\n",
    "ax.set_ylabel('Temperature-dependent Growth Rate')\n",
    "ax.set_xlabel('Temperature (degrees Celsius)')\n",
    "ax.legend(frameon=False)\n",
    "\n",
    "plt.savefig('SuppFigureS3_TempOptima.png', bbox_inches='tight',dpi=1000,transparent=False)"
   ]
  },
  {
   "cell_type": "code",
   "execution_count": null,
   "metadata": {},
   "outputs": [],
   "source": []
  }
 ],
 "metadata": {
  "kernelspec": {
   "display_name": "Python (py39)",
   "language": "python",
   "name": "py39"
  },
  "language_info": {
   "codemirror_mode": {
    "name": "ipython",
    "version": 3
   },
   "file_extension": ".py",
   "mimetype": "text/x-python",
   "name": "python",
   "nbconvert_exporter": "python",
   "pygments_lexer": "ipython3",
   "version": "3.9.15"
  }
 },
 "nbformat": 4,
 "nbformat_minor": 4
}
