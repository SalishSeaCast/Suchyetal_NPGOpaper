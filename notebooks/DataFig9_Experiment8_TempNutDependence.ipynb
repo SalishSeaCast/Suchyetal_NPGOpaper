{
 "cells": [
  {
   "cell_type": "markdown",
   "metadata": {},
   "source": [
    "## Data for Figure 9"
   ]
  },
  {
   "cell_type": "markdown",
   "metadata": {},
   "source": [
    "#### Based on Elise Olson's https://github.com/SalishSeaCast/analysis-elise-2/blob/master/notebooks/modelEqs/NewRateComparison.ipynb notebook"
   ]
  },
  {
   "cell_type": "code",
   "execution_count": 1,
   "metadata": {},
   "outputs": [],
   "source": [
    "import numpy as np\n",
    "import netCDF4 as nc\n",
    "import matplotlib.pyplot as plt\n",
    "from salishsea_tools import bio_tools as bt, places\n",
    "import xarray as xr\n",
    "import os\n",
    "import glob\n",
    "%matplotlib inline"
   ]
  },
  {
   "cell_type": "code",
   "execution_count": 2,
   "metadata": {},
   "outputs": [],
   "source": [
    "nml=bt.load_nml_bio(resDir='/ocean/eolson/MEOPAR/NEMO-3.6-code/NEMOGCM/CONFIG/SalishSeaCast/EXP00/',\n",
    "                 nmlname='nampisprod',bioRefName='namelist_smelt_cfg_HC201905equiv',bioCfgName='namelist_smelt_cfg_HC201905equiv')"
   ]
  },
  {
   "cell_type": "code",
   "execution_count": 3,
   "metadata": {},
   "outputs": [
    {
     "data": {
      "text/plain": [
       "Namelist([('zz_rate_r_diat', 6.0495e-05),\n",
       "          ('zz_rate_r_myri', 2.22e-05),\n",
       "          ('zz_rate_r_nano', 2.109e-05),\n",
       "          ('zz_rate_maxtemp_diat', 26.0),\n",
       "          ('zz_rate_maxtemp_myri', 31.0),\n",
       "          ('zz_rate_maxtemp_nano', 31.0),\n",
       "          ('zz_rate_temprange_diat', 14.0),\n",
       "          ('zz_rate_temprange_myri', 13.0),\n",
       "          ('zz_rate_temprange_nano', 13.0),\n",
       "          ('zz_rate_iopt_diat', 45.0),\n",
       "          ('zz_rate_iopt_myri', 37.0),\n",
       "          ('zz_rate_iopt_nano', 10.0),\n",
       "          ('zz_rate_gamma_diat', 0.0),\n",
       "          ('zz_rate_gamma_myri', 0.0),\n",
       "          ('zz_rate_gamma_nano', 0.0),\n",
       "          ('zz_rate_k_si_diat', 2.2),\n",
       "          ('zz_rate_k_si_myri', 0.0),\n",
       "          ('zz_rate_k_si_nano', 0.0),\n",
       "          ('zz_rate_kapa_diat', 1.0),\n",
       "          ('zz_rate_kapa_myri', 0.5),\n",
       "          ('zz_rate_kapa_nano', 0.3),\n",
       "          ('zz_rate_k_diat', 2.0),\n",
       "          ('zz_rate_k_myri', 0.5),\n",
       "          ('zz_rate_k_nano', 0.2),\n",
       "          ('zz_rate_si_ratio_diat', 1.8),\n",
       "          ('zz_rate_si_ratio_myri', 0.0),\n",
       "          ('zz_rate_si_ratio_nano', 0.0)])"
      ]
     },
     "execution_count": 3,
     "metadata": {},
     "output_type": "execute_result"
    }
   ],
   "source": [
    "nml"
   ]
  },
  {
   "cell_type": "code",
   "execution_count": 4,
   "metadata": {},
   "outputs": [],
   "source": [
    "def phyto_Tdep_Factor(TT, zz_rate_maxtemp, zz_rate_temprange):\n",
    "    if hasattr(TT,'__len__'): # assume 1-d array or similar and return array\n",
    "        return np.array([phyto_Tdep_Factor(el,zz_rate_maxtemp, zz_rate_temprange) for el in TT])\n",
    "    else:\n",
    "        return np.exp(0.07 * (TT - 20)) * min(max((zz_rate_maxtemp - TT), 0.0),zz_rate_temprange) / (zz_rate_temprange + 1e-10)"
   ]
  },
  {
   "cell_type": "code",
   "execution_count": 5,
   "metadata": {},
   "outputs": [],
   "source": [
    "def calc_T_Factors(TT,nampisprod):\n",
    "    Tdep_Diat=phyto_Tdep_Factor(TT,nampisprod['zz_rate_maxtemp_diat'],nampisprod['zz_rate_temprange_diat'])\n",
    "    Tdep_Myri=phyto_Tdep_Factor(TT,nampisprod['zz_rate_maxtemp_myri'],nampisprod['zz_rate_temprange_myri'])\n",
    "    Tdep_Nano=phyto_Tdep_Factor(TT,nampisprod['zz_rate_maxtemp_nano'],nampisprod['zz_rate_temprange_nano'])\n",
    "    return Tdep_Diat, Tdep_Myri, Tdep_Nano"
   ]
  },
  {
   "cell_type": "markdown",
   "metadata": {},
   "source": [
    "### Import Temperature Files"
   ]
  },
  {
   "cell_type": "code",
   "execution_count": 6,
   "metadata": {},
   "outputs": [],
   "source": [
    "# Original CY \n",
    "\n",
    "monthly_array_temp_orig_slice = np.zeros([14,12,50,50])\n",
    "# Load monthly averages\n",
    "mask = xr.open_dataset('/data/eolson/results/MEOPAR/NEMO-forcing-new/grid/mesh_mask201702.nc')\n",
    "slc = {'y': slice(450,500), 'x': slice(250,300)}\n",
    "e3t, tmask = [mask[var].isel(z=slice(None, 27),**slc).values for var in ('e3t_0', 'tmask')]\n",
    "years, variables = range(2007, 2021), ['votemper']\n",
    "# Temporary list dict\n",
    "data = {}\n",
    "# Permanent aggregate dict\n",
    "aggregates = {var: {} for var in variables}\n",
    "monthlydat = {var: {} for var in variables}\n",
    "\n",
    "### 2008 using higher temperature threshold       \n",
    "# Add experiment year\n",
    "for year in [2008]:\n",
    "    # Initialize lists\n",
    "    for var in variables: data[var] = []\n",
    "    # Load monthly averages\n",
    "    for month in range(1, 13):\n",
    "        datestr = f'{year}{month:02d}'\n",
    "        prefix = f'/data/sallen/results/MEOPAR/v201905r/SalishSea_1m_{datestr}_{datestr}'\n",
    "        \n",
    "        with xr.open_dataset(prefix + '_grid_T.nc') as ds:\n",
    "            q = ds.votemper.isel(deptht=0, **slc).values\n",
    "            q2 = q[0,:,:]\n",
    "            monthly_array_temp_orig_slice[year-2007,month-1,:,:] = q2 #year2007 is index 0 along 1st dimension\n",
    "            for var in ['votemper']:\n",
    "                data[var].append(ds.votemper.isel(deptht=0, **slc).values)\n",
    "    # Concatenate months\n",
    "    for var in variables: aggregates[var][year] = np.concatenate(data[var]).mean(axis=0)\n"
   ]
  },
  {
   "cell_type": "code",
   "execution_count": 7,
   "metadata": {},
   "outputs": [
    {
     "name": "stdout",
     "output_type": "stream",
     "text": [
      "(14, 12)\n"
     ]
    },
    {
     "name": "stderr",
     "output_type": "stream",
     "text": [
      "/tmp/ipykernel_3793737/1734163470.py:3: RuntimeWarning: Mean of empty slice\n",
      "  np.nanmean(np.nanmean(monthly_array_temp_orig_slice, axis = 2),axis = 2)\n"
     ]
    }
   ],
   "source": [
    "monthly_array_temp_orig_slice[monthly_array_temp_orig_slice == 0 ] = np.nan\n",
    "monthly_array_temp_orig_slicemean = \\\n",
    "np.nanmean(np.nanmean(monthly_array_temp_orig_slice, axis = 2),axis = 2)\n",
    "print(np.shape(monthly_array_temp_orig_slicemean))"
   ]
  },
  {
   "cell_type": "code",
   "execution_count": 8,
   "metadata": {},
   "outputs": [],
   "source": [
    "## Experiment 8\n",
    "\n",
    "monthly_array_temp_exp_slice = np.zeros([14,12,50,50])\n",
    "# Load monthly averages\n",
    "mask = xr.open_dataset('/data/eolson/results/MEOPAR/NEMO-forcing-new/grid/mesh_mask201702.nc')\n",
    "slc = {'y': slice(450,500), 'x': slice(250,300)}\n",
    "e3t, tmask = [mask[var].isel(z=slice(None, 27),**slc).values for var in ('e3t_0', 'tmask')]\n",
    "years, variables = range(2007, 2021), ['votemper']\n",
    "# Temporary list dict\n",
    "data = {}\n",
    "# Permanent aggregate dict\n",
    "aggregates = {var: {} for var in variables}\n",
    "monthlydat = {var: {} for var in variables}\n",
    "\n",
    "### 2008 using higher temperature threshold       \n",
    "# Add experiment year\n",
    "for year in [2008]:\n",
    "    # Initialize lists\n",
    "    for var in variables: data[var] = []\n",
    "    # Load monthly averages\n",
    "    for month in range(1, 7):\n",
    "        datestr = f'{year}{month:02d}'\n",
    "        prefix = f'/data/sallen/results/MEOPAR/Karyn/01jan08_Thrml19/SalishSea_1m_{datestr}_{datestr}'\n",
    "        \n",
    "        with xr.open_dataset(prefix + '_grid_T.nc') as ds:\n",
    "            q = ds.votemper.isel(deptht=0, **slc).values\n",
    "            q2 = q[0,:,:]\n",
    "            monthly_array_temp_exp_slice[year-2007,month-1,:,:] = q2 #year2007 is index 0 along 1st dimension\n",
    "            for var in ['votemper']:\n",
    "                data[var].append(ds.votemper.isel(deptht=0, **slc).values)\n",
    "    # Concatenate months\n",
    "    for var in variables: aggregates[var][year] = np.concatenate(data[var]).mean(axis=0)\n",
    "\n",
    "for year in [2008]:\n",
    "    # Initialize lists\n",
    "    for var in variables: data[var] = []\n",
    "    # Load monthly averages\n",
    "    for month in range(7, 13):\n",
    "        datestr = f'{year}{month:02d}'\n",
    "        prefix = f'/data/sallen/results/MEOPAR/Karyn/01jul08_Thrml19/SalishSea_1m_{datestr}_{datestr}'\n",
    "        \n",
    "        with xr.open_dataset(prefix + '_grid_T.nc') as ds:\n",
    "            q = ds.votemper.isel(deptht=0, **slc).values\n",
    "            q2 = q[0,:,:]\n",
    "            monthly_array_temp_exp_slice[year-2007,month-1,:,:] = q2 #year2007 is index 0 along 1st dimension\n",
    "            for var in ['votemper']:\n",
    "                data[var].append(ds.votemper.isel(deptht=0, **slc).values)\n",
    "    # Concatenate months\n",
    "    for var in variables: aggregates[var][year] = np.concatenate(data[var]).mean(axis=0)"
   ]
  },
  {
   "cell_type": "code",
   "execution_count": 9,
   "metadata": {},
   "outputs": [
    {
     "name": "stdout",
     "output_type": "stream",
     "text": [
      "(14, 12)\n"
     ]
    },
    {
     "name": "stderr",
     "output_type": "stream",
     "text": [
      "/tmp/ipykernel_3793737/2338418733.py:3: RuntimeWarning: Mean of empty slice\n",
      "  np.nanmean(np.nanmean(monthly_array_temp_exp_slice, axis = 2),axis = 2)\n"
     ]
    }
   ],
   "source": [
    "monthly_array_temp_exp_slice[monthly_array_temp_exp_slice == 0 ] = np.nan\n",
    "monthly_array_temp_exp_slicemean = \\\n",
    "np.nanmean(np.nanmean(monthly_array_temp_exp_slice, axis = 2),axis = 2)\n",
    "print(np.shape(monthly_array_temp_exp_slicemean))"
   ]
  },
  {
   "cell_type": "code",
   "execution_count": 10,
   "metadata": {},
   "outputs": [
    {
     "data": {
      "text/plain": [
       "array([ 6.55805313,  4.6761362 ,  6.77186194, 10.27311911, 13.59493183,\n",
       "       17.42428301, 18.35690238, 18.73194292, 16.01386188, 11.39800505,\n",
       "        8.80717597,  6.78115408])"
      ]
     },
     "execution_count": 10,
     "metadata": {},
     "output_type": "execute_result"
    }
   ],
   "source": [
    "monthly_array_temp_exp_slicemean[1,:] ## Experiment 2 SST "
   ]
  },
  {
   "cell_type": "code",
   "execution_count": 11,
   "metadata": {},
   "outputs": [
    {
     "data": {
      "text/plain": [
       "array([ 6.12548543,  5.80986749,  7.48572357,  9.13112748, 12.73411507,\n",
       "       16.15264921, 18.19417126, 18.16483525, 15.4019242 , 12.00080142,\n",
       "        9.30544262,  6.33640542])"
      ]
     },
     "execution_count": 11,
     "metadata": {},
     "output_type": "execute_result"
    }
   ],
   "source": [
    "monthly_array_temp_orig_slicemean[1,:] ## Original SST"
   ]
  },
  {
   "cell_type": "code",
   "execution_count": null,
   "metadata": {},
   "outputs": [],
   "source": []
  },
  {
   "cell_type": "markdown",
   "metadata": {},
   "source": [
    "### Temperature response factors\n"
   ]
  },
  {
   "cell_type": "code",
   "execution_count": 12,
   "metadata": {},
   "outputs": [],
   "source": [
    "TdepDiatOrig,__,TdepNanoOrig=calc_T_Factors(monthly_array_temp_orig_slicemean[1,:],nml)\n",
    "TdepDiatExp,__,TdepNanoExp=calc_T_Factors(monthly_array_temp_exp_slicemean[1,:],nml)"
   ]
  },
  {
   "cell_type": "markdown",
   "metadata": {},
   "source": [
    "#### Open Nutrient files"
   ]
  },
  {
   "cell_type": "code",
   "execution_count": 13,
   "metadata": {},
   "outputs": [],
   "source": [
    "## Original CY \n",
    "\n",
    "\n",
    "monthly_array_nitrate_orig_slice = np.zeros([14,12,50,50])\n",
    "# Load monthly averages\n",
    "mask = xr.open_dataset('/data/eolson/results/MEOPAR/NEMO-forcing-new/grid/mesh_mask201702.nc')\n",
    "slc = {'y': slice(450,500), 'x': slice(250,300)} \n",
    "e3t, tmask = [mask[var].isel(z=slice(None, 27),**slc).values for var in ('e3t_0', 'tmask')]\n",
    "years, variables = range(2007, 2021), ['nitrate']\n",
    "# Temporary list dict\n",
    "data = {}\n",
    "# Permanent aggregate dict\n",
    "aggregates = {var: {} for var in variables}\n",
    "monthlydat = {var: {} for var in variables}\n",
    "        \n",
    "# Add experiment year\n",
    "for year in [2008]:\n",
    "    # Initialize lists\n",
    "    for var in variables: data[var] = []\n",
    "    # Load monthly averages\n",
    "    for month in range(1, 13):\n",
    "        datestr = f'{year}{month:02d}'\n",
    "        prefix = f'/data/sallen/results/MEOPAR/v201905r/SalishSea_1m_{datestr}_{datestr}'\n",
    "        \n",
    "        \n",
    "        # Load grazing variables\n",
    "        with xr.open_dataset(prefix + '_ptrc_T.nc') as ds:\n",
    "            q = ds.nitrate.isel(deptht=0, **slc).values\n",
    "            q2 = q[0,:,:]\n",
    "            monthly_array_nitrate_orig_slice[year-2007,month-1,:,:] = q2 #year2007 is index 0 along 1st dimension\n",
    "            for var in ['nitrate']:\n",
    "                data[var].append(ds.nitrate.isel(deptht=0, **slc).values)\n",
    "                \n",
    "    # Concatenate months\n",
    "    for var in variables: aggregates[var][year] = np.concatenate(data[var]).mean(axis=0)        \n"
   ]
  },
  {
   "cell_type": "code",
   "execution_count": 14,
   "metadata": {},
   "outputs": [
    {
     "name": "stdout",
     "output_type": "stream",
     "text": [
      "(14, 12)\n"
     ]
    },
    {
     "name": "stderr",
     "output_type": "stream",
     "text": [
      "/tmp/ipykernel_3793737/3312634990.py:3: RuntimeWarning: Mean of empty slice\n",
      "  np.nanmean(np.nanmean(monthly_array_nitrate_orig_slice, axis = 2),axis = 2)\n"
     ]
    }
   ],
   "source": [
    "monthly_array_nitrate_orig_slice[monthly_array_nitrate_orig_slice == 0 ] = np.nan\n",
    "monthly_array_nitrate_orig_slicemean = \\\n",
    "np.nanmean(np.nanmean(monthly_array_nitrate_orig_slice, axis = 2),axis = 2)\n",
    "print(np.shape(monthly_array_nitrate_orig_slicemean))"
   ]
  },
  {
   "cell_type": "code",
   "execution_count": 15,
   "metadata": {},
   "outputs": [],
   "source": [
    "## Experiment 8\n",
    "\n",
    "monthly_array_nitrate_exp_slice = np.zeros([14,12,50,50])\n",
    "# Load monthly averages\n",
    "mask = xr.open_dataset('/data/eolson/results/MEOPAR/NEMO-forcing-new/grid/mesh_mask201702.nc')\n",
    "slc = {'y': slice(450,500), 'x': slice(250,300)} \n",
    "e3t, tmask = [mask[var].isel(z=slice(None, 27),**slc).values for var in ('e3t_0', 'tmask')]\n",
    "years, variables = range(2007, 2021), ['nitrate']\n",
    "# Temporary list dict\n",
    "data = {}\n",
    "# Permanent aggregate dict\n",
    "aggregates = {var: {} for var in variables}\n",
    "monthlydat = {var: {} for var in variables}\n",
    "        \n",
    "# Add experiment year\n",
    "for year in [2008]:\n",
    "    # Initialize lists\n",
    "    for var in variables: data[var] = []\n",
    "    # Load monthly averages\n",
    "    for month in range(1, 7):\n",
    "        datestr = f'{year}{month:02d}'\n",
    "        prefix = f'/data/sallen/results/MEOPAR/Karyn/01jan08_Thrml19/SalishSea_1m_{datestr}_{datestr}'\n",
    "        \n",
    "        \n",
    "        # Load grazing variables\n",
    "        with xr.open_dataset(prefix + '_ptrc_T.nc') as ds:\n",
    "            q = ds.nitrate.isel(deptht=0, **slc).values\n",
    "            q2 = q[0,:,:]\n",
    "            monthly_array_nitrate_exp_slice[year-2007,month-1,:,:] = q2 #year2007 is index 0 along 1st dimension\n",
    "            for var in ['nitrate']:\n",
    "                data[var].append(ds.nitrate.isel(deptht=0, **slc).values)\n",
    "                \n",
    "    # Concatenate months\n",
    "    for var in variables: aggregates[var][year] = np.concatenate(data[var]).mean(axis=0)   \n",
    "        \n",
    "\n",
    "# Add experiment year\n",
    "for year in [2008]:\n",
    "    # Initialize lists\n",
    "    for var in variables: data[var] = []\n",
    "    # Load monthly averages\n",
    "    for month in range(7, 13):\n",
    "        datestr = f'{year}{month:02d}'\n",
    "        prefix = f'/data/sallen/results/MEOPAR/Karyn/01jul08_Thrml19/SalishSea_1m_{datestr}_{datestr}'\n",
    "        \n",
    "        \n",
    "        # Load grazing variables\n",
    "        with xr.open_dataset(prefix + '_ptrc_T.nc') as ds:\n",
    "            q = ds.nitrate.isel(deptht=0, **slc).values\n",
    "            q2 = q[0,:,:]\n",
    "            monthly_array_nitrate_exp_slice[year-2007,month-1,:,:] = q2 #year2007 is index 0 along 1st dimension\n",
    "            for var in ['nitrate']:\n",
    "                data[var].append(ds.nitrate.isel(deptht=0, **slc).values)\n",
    "                \n",
    "    # Concatenate months\n",
    "    for var in variables: aggregates[var][year] = np.concatenate(data[var]).mean(axis=0) \n"
   ]
  },
  {
   "cell_type": "code",
   "execution_count": 16,
   "metadata": {},
   "outputs": [
    {
     "name": "stdout",
     "output_type": "stream",
     "text": [
      "(14, 12)\n"
     ]
    },
    {
     "name": "stderr",
     "output_type": "stream",
     "text": [
      "/tmp/ipykernel_3793737/1010059431.py:3: RuntimeWarning: Mean of empty slice\n",
      "  np.nanmean(np.nanmean(monthly_array_nitrate_exp_slice, axis = 2),axis = 2)\n"
     ]
    }
   ],
   "source": [
    "monthly_array_nitrate_exp_slice[monthly_array_nitrate_exp_slice == 0 ] = np.nan\n",
    "monthly_array_nitrate_exp_slicemean = \\\n",
    "np.nanmean(np.nanmean(monthly_array_nitrate_exp_slice, axis = 2),axis = 2)\n",
    "print(np.shape(monthly_array_nitrate_exp_slicemean))"
   ]
  },
  {
   "cell_type": "code",
   "execution_count": 17,
   "metadata": {},
   "outputs": [],
   "source": [
    "## Original CY\n",
    "\n",
    "monthly_array_silicon_orig_slice = np.zeros([14,12,50,50])\n",
    "# Load monthly averages\n",
    "mask = xr.open_dataset('/data/eolson/results/MEOPAR/NEMO-forcing-new/grid/mesh_mask201702.nc')\n",
    "slc = {'y': slice(450,500), 'x': slice(250,300)} \n",
    "e3t, tmask = [mask[var].isel(z=slice(None, 27),**slc).values for var in ('e3t_0', 'tmask')]\n",
    "years, variables = range(2007, 2021), ['silicon']\n",
    "# Temporary list dict\n",
    "data = {}\n",
    "# Permanent aggregate dict\n",
    "aggregates = {var: {} for var in variables}\n",
    "monthlydat = {var: {} for var in variables}\n",
    "\n",
    "        \n",
    "# Add experiment year\n",
    "for year in [2008]:\n",
    "    # Initialize lists\n",
    "    for var in variables: data[var] = []\n",
    "    # Load monthly averages\n",
    "    for month in range(1, 13):\n",
    "        datestr = f'{year}{month:02d}'\n",
    "        prefix = f'/data/sallen/results/MEOPAR/v201905r/SalishSea_1m_{datestr}_{datestr}'\n",
    "        \n",
    "        \n",
    "        # Load grazing variables\n",
    "        with xr.open_dataset(prefix + '_ptrc_T.nc') as ds:\n",
    "            q = ds.silicon.isel(deptht=0, **slc).values\n",
    "            q2 = q[0,:,:]\n",
    "            monthly_array_silicon_orig_slice[year-2007,month-1,:,:] = q2 #year2007 is index 0 along 1st dimension\n",
    "            for var in ['silicon']:\n",
    "                data[var].append(ds.silicon.isel(deptht=0, **slc).values)\n",
    "    \n",
    "    # Concatenate months\n",
    "    for var in variables: aggregates[var][year] = np.concatenate(data[var]).mean(axis=0)        \n",
    "\n",
    "       "
   ]
  },
  {
   "cell_type": "code",
   "execution_count": 18,
   "metadata": {},
   "outputs": [
    {
     "name": "stdout",
     "output_type": "stream",
     "text": [
      "(14, 12)\n"
     ]
    },
    {
     "name": "stderr",
     "output_type": "stream",
     "text": [
      "/tmp/ipykernel_3793737/241793216.py:3: RuntimeWarning: Mean of empty slice\n",
      "  np.nanmean(np.nanmean(monthly_array_silicon_orig_slice, axis = 2),axis = 2)\n"
     ]
    }
   ],
   "source": [
    "monthly_array_silicon_orig_slice[monthly_array_silicon_orig_slice == 0 ] = np.nan\n",
    "monthly_array_silicon_orig_slicemean = \\\n",
    "np.nanmean(np.nanmean(monthly_array_silicon_orig_slice, axis = 2),axis = 2)\n",
    "print(np.shape(monthly_array_silicon_orig_slicemean))"
   ]
  },
  {
   "cell_type": "code",
   "execution_count": 19,
   "metadata": {},
   "outputs": [],
   "source": [
    "## Experiment 8\n",
    "\n",
    "monthly_array_silicon_exp_slice = np.zeros([14,12,50,50])\n",
    "# Load monthly averages\n",
    "mask = xr.open_dataset('/data/eolson/results/MEOPAR/NEMO-forcing-new/grid/mesh_mask201702.nc')\n",
    "slc = {'y': slice(450,500), 'x': slice(250,300)} \n",
    "e3t, tmask = [mask[var].isel(z=slice(None, 27),**slc).values for var in ('e3t_0', 'tmask')]\n",
    "years, variables = range(2007, 2021), ['silicon']\n",
    "# Temporary list dict\n",
    "data = {}\n",
    "# Permanent aggregate dict\n",
    "aggregates = {var: {} for var in variables}\n",
    "monthlydat = {var: {} for var in variables}\n",
    "        \n",
    "# Add experiment year\n",
    "for year in [2008]:\n",
    "    # Initialize lists\n",
    "    for var in variables: data[var] = []\n",
    "    # Load monthly averages\n",
    "    for month in range(1, 7):\n",
    "        datestr = f'{year}{month:02d}'\n",
    "        prefix = f'/data/sallen/results/MEOPAR/Karyn/01jan08_Thrml19/SalishSea_1m_{datestr}_{datestr}'\n",
    "        \n",
    "        \n",
    "        # Load grazing variables\n",
    "        with xr.open_dataset(prefix + '_ptrc_T.nc') as ds:\n",
    "            q = ds.silicon.isel(deptht=0, **slc).values\n",
    "            q2 = q[0,:,:]\n",
    "            monthly_array_silicon_exp_slice[year-2007,month-1,:,:] = q2 #year2007 is index 0 along 1st dimension\n",
    "            for var in ['silicon']:\n",
    "                data[var].append(ds.silicon.isel(deptht=0, **slc).values)\n",
    "                \n",
    "    # Concatenate months\n",
    "    for var in variables: aggregates[var][year] = np.concatenate(data[var]).mean(axis=0)   \n",
    "        \n",
    "\n",
    "# Add experiment year\n",
    "for year in [2008]:\n",
    "    # Initialize lists\n",
    "    for var in variables: data[var] = []\n",
    "    # Load monthly averages\n",
    "    for month in range(7, 13):\n",
    "        datestr = f'{year}{month:02d}'\n",
    "        prefix = f'/data/sallen/results/MEOPAR/Karyn/01jul08_Thrml19/SalishSea_1m_{datestr}_{datestr}'\n",
    "        \n",
    "        \n",
    "        # Load grazing variables\n",
    "        with xr.open_dataset(prefix + '_ptrc_T.nc') as ds:\n",
    "            q = ds.silicon.isel(deptht=0, **slc).values\n",
    "            q2 = q[0,:,:]\n",
    "            monthly_array_silicon_exp_slice[year-2007,month-1,:,:] = q2 #year2007 is index 0 along 1st dimension\n",
    "            for var in ['silicon']:\n",
    "                data[var].append(ds.silicon.isel(deptht=0, **slc).values)\n",
    "                \n",
    "    # Concatenate months\n",
    "    for var in variables: aggregates[var][year] = np.concatenate(data[var]).mean(axis=0) \n"
   ]
  },
  {
   "cell_type": "code",
   "execution_count": 20,
   "metadata": {},
   "outputs": [
    {
     "name": "stdout",
     "output_type": "stream",
     "text": [
      "(14, 12)\n"
     ]
    },
    {
     "name": "stderr",
     "output_type": "stream",
     "text": [
      "/tmp/ipykernel_3793737/4227105976.py:3: RuntimeWarning: Mean of empty slice\n",
      "  np.nanmean(np.nanmean(monthly_array_silicon_exp_slice, axis = 2),axis = 2)\n"
     ]
    }
   ],
   "source": [
    "monthly_array_silicon_exp_slice[monthly_array_silicon_exp_slice == 0 ] = np.nan\n",
    "monthly_array_silicon_exp_slicemean = \\\n",
    "np.nanmean(np.nanmean(monthly_array_silicon_exp_slice, axis = 2),axis = 2)\n",
    "print(np.shape(monthly_array_silicon_exp_slicemean))"
   ]
  },
  {
   "cell_type": "code",
   "execution_count": 21,
   "metadata": {},
   "outputs": [],
   "source": [
    "## Original CY\n",
    "\n",
    "monthly_array_ammonium_orig_slice = np.zeros([14,12,50,50])\n",
    "# Load monthly averages\n",
    "mask = xr.open_dataset('/data/eolson/results/MEOPAR/NEMO-forcing-new/grid/mesh_mask201702.nc')\n",
    "slc = {'y': slice(450,500), 'x': slice(250,300)} \n",
    "e3t, tmask = [mask[var].isel(z=slice(None, 27),**slc).values for var in ('e3t_0', 'tmask')]\n",
    "years, variables = range(2007, 2021), ['ammonium']\n",
    "# Temporary list dict\n",
    "data = {}\n",
    "# Permanent aggregate dict\n",
    "aggregates = {var: {} for var in variables}\n",
    "monthlydat = {var: {} for var in variables}\n",
    "\n",
    "        \n",
    "# Add experiment year\n",
    "for year in [2008]:\n",
    "    # Initialize lists\n",
    "    for var in variables: data[var] = []\n",
    "    # Load monthly averages\n",
    "    for month in range(1, 13):\n",
    "        datestr = f'{year}{month:02d}'\n",
    "        prefix = f'/data/sallen/results/MEOPAR/v201905r/SalishSea_1m_{datestr}_{datestr}'\n",
    "        \n",
    "        \n",
    "        # Load grazing variables\n",
    "        with xr.open_dataset(prefix + '_ptrc_T.nc') as ds:\n",
    "            q = ds.ammonium.isel(deptht=0, **slc).values\n",
    "            q2 = q[0,:,:]\n",
    "            monthly_array_ammonium_orig_slice[year-2007,month-1,:,:] = q2 #year2007 is index 0 along 1st dimension\n",
    "            for var in ['ammonium']:\n",
    "                data[var].append(ds.ammonium.isel(deptht=0, **slc).values)\n",
    "    \n",
    "    # Concatenate months\n",
    "    for var in variables: aggregates[var][year] = np.concatenate(data[var]).mean(axis=0)        \n",
    "\n",
    "       "
   ]
  },
  {
   "cell_type": "code",
   "execution_count": 22,
   "metadata": {},
   "outputs": [
    {
     "name": "stdout",
     "output_type": "stream",
     "text": [
      "(14, 12)\n"
     ]
    },
    {
     "name": "stderr",
     "output_type": "stream",
     "text": [
      "/tmp/ipykernel_3793737/3976818894.py:3: RuntimeWarning: Mean of empty slice\n",
      "  np.nanmean(np.nanmean(monthly_array_ammonium_orig_slice, axis = 2),axis = 2)\n"
     ]
    }
   ],
   "source": [
    "monthly_array_ammonium_orig_slice[monthly_array_ammonium_orig_slice == 0 ] = np.nan\n",
    "monthly_array_ammonium_orig_slicemean = \\\n",
    "np.nanmean(np.nanmean(monthly_array_ammonium_orig_slice, axis = 2),axis = 2)\n",
    "print(np.shape(monthly_array_ammonium_orig_slicemean))"
   ]
  },
  {
   "cell_type": "code",
   "execution_count": 23,
   "metadata": {},
   "outputs": [],
   "source": [
    "## Experiment 8\n",
    "\n",
    "\n",
    "monthly_array_ammonium_exp_slice = np.zeros([14,12,50,50])\n",
    "# Load monthly averages\n",
    "mask = xr.open_dataset('/data/eolson/results/MEOPAR/NEMO-forcing-new/grid/mesh_mask201702.nc')\n",
    "slc = {'y': slice(450,500), 'x': slice(250,300)} \n",
    "e3t, tmask = [mask[var].isel(z=slice(None, 27),**slc).values for var in ('e3t_0', 'tmask')]\n",
    "years, variables = range(2007, 2021), ['ammonium']\n",
    "# Temporary list dict\n",
    "data = {}\n",
    "# Permanent aggregate dict\n",
    "aggregates = {var: {} for var in variables}\n",
    "monthlydat = {var: {} for var in variables}\n",
    "        \n",
    "# Add experiment year\n",
    "for year in [2008]:\n",
    "    # Initialize lists\n",
    "    for var in variables: data[var] = []\n",
    "    # Load monthly averages\n",
    "    for month in range(1, 7):\n",
    "        datestr = f'{year}{month:02d}'\n",
    "        prefix = f'/data/sallen/results/MEOPAR/Karyn/01jan08_Thrml19/SalishSea_1m_{datestr}_{datestr}'\n",
    "        \n",
    "        \n",
    "        # Load grazing variables\n",
    "        with xr.open_dataset(prefix + '_ptrc_T.nc') as ds:\n",
    "            q = ds.ammonium.isel(deptht=0, **slc).values\n",
    "            q2 = q[0,:,:]\n",
    "            monthly_array_ammonium_exp_slice[year-2007,month-1,:,:] = q2 #year2007 is index 0 along 1st dimension\n",
    "            for var in ['ammonium']:\n",
    "                data[var].append(ds.ammonium.isel(deptht=0, **slc).values)\n",
    "                \n",
    "    # Concatenate months\n",
    "    for var in variables: aggregates[var][year] = np.concatenate(data[var]).mean(axis=0)   \n",
    "        \n",
    "\n",
    "# Add experiment year\n",
    "for year in [2008]:\n",
    "    # Initialize lists\n",
    "    for var in variables: data[var] = []\n",
    "    # Load monthly averages\n",
    "    for month in range(7, 13):\n",
    "        datestr = f'{year}{month:02d}'\n",
    "        prefix = f'/data/sallen/results/MEOPAR/Karyn/01jul08_Thrml19/SalishSea_1m_{datestr}_{datestr}'\n",
    "        \n",
    "        \n",
    "        # Load grazing variables\n",
    "        with xr.open_dataset(prefix + '_ptrc_T.nc') as ds:\n",
    "            q = ds.ammonium.isel(deptht=0, **slc).values\n",
    "            q2 = q[0,:,:]\n",
    "            monthly_array_ammonium_exp_slice[year-2007,month-1,:,:] = q2 #year2007 is index 0 along 1st dimension\n",
    "            for var in ['ammonium']:\n",
    "                data[var].append(ds.ammonium.isel(deptht=0, **slc).values)\n",
    "                \n",
    "    # Concatenate months\n",
    "    for var in variables: aggregates[var][year] = np.concatenate(data[var]).mean(axis=0) \n"
   ]
  },
  {
   "cell_type": "code",
   "execution_count": 24,
   "metadata": {},
   "outputs": [
    {
     "name": "stdout",
     "output_type": "stream",
     "text": [
      "(14, 12)\n"
     ]
    },
    {
     "name": "stderr",
     "output_type": "stream",
     "text": [
      "/tmp/ipykernel_3793737/3603250393.py:3: RuntimeWarning: Mean of empty slice\n",
      "  np.nanmean(np.nanmean(monthly_array_ammonium_exp_slice, axis = 2),axis = 2)\n"
     ]
    }
   ],
   "source": [
    "monthly_array_ammonium_exp_slice[monthly_array_ammonium_exp_slice == 0 ] = np.nan\n",
    "monthly_array_ammonium_exp_slicemean = \\\n",
    "np.nanmean(np.nanmean(monthly_array_ammonium_exp_slice, axis = 2),axis = 2)\n",
    "print(np.shape(monthly_array_ammonium_exp_slicemean))"
   ]
  },
  {
   "cell_type": "code",
   "execution_count": 25,
   "metadata": {},
   "outputs": [],
   "source": [
    "# for now just set light to constant and ignore 'limiter' and 'limval'\n",
    "DiatLimOrig, __, NanoLimOrig = bt.calc_p_limiters(10*np.ones(np.shape(monthly_array_nitrate_orig_slicemean[1,:])),\n",
    "                                               NO=monthly_array_nitrate_orig_slicemean[1,:],\n",
    "                                               NH=monthly_array_ammonium_orig_slicemean[1,:],\n",
    "                                               Si=monthly_array_silicon_orig_slicemean[1,:],\n",
    "                                               tmask=np.ones(np.shape(monthly_array_nitrate_orig_slicemean[1,:])),\n",
    "                                               nampisprod=nml)"
   ]
  },
  {
   "cell_type": "code",
   "execution_count": 26,
   "metadata": {},
   "outputs": [],
   "source": [
    "# for now just set light to constant and ignore 'limiter' and 'limval'\n",
    "DiatLimExp, __, NanoLimExp = bt.calc_p_limiters(10*np.ones(np.shape(monthly_array_nitrate_exp_slicemean[1,:])),\n",
    "                                               NO=monthly_array_nitrate_exp_slicemean[1,:],\n",
    "                                               NH=monthly_array_ammonium_exp_slicemean[1,:],\n",
    "                                               Si=monthly_array_silicon_exp_slicemean[1,:],\n",
    "                                               tmask=np.ones(np.shape(monthly_array_nitrate_exp_slicemean[1,:])),\n",
    "                                               nampisprod=nml)"
   ]
  },
  {
   "cell_type": "code",
   "execution_count": 27,
   "metadata": {},
   "outputs": [
    {
     "data": {
      "text/plain": [
       "{'ILim': array([0.51559692, 0.51559692, 0.51559692, 0.51559692, 0.51559692,\n",
       "        0.51559692, 0.51559692, 0.51559692, 0.51559692, 0.51559692,\n",
       "        0.51559692, 0.51559692]),\n",
       " 'NLim': array([0.92615692, 0.91989456, 0.91559366, 0.78472399, 0.6766017 ,\n",
       "        0.48910759, 0.5398265 , 0.69177229, 0.82237917, 0.8856945 ,\n",
       "        0.9163549 , 0.92115137]),\n",
       " 'SiLim': array([0.95793134, 0.95925508, 0.95802654, 0.90905993, 0.86321779,\n",
       "        0.89763641, 0.85658661, 0.86556353, 0.91291876, 0.93082761,\n",
       "        0.95026166, 0.95534427]),\n",
       " 'limiter': array([0., 0., 0., 0., 0., 2., 0., 0., 0., 0., 0., 0.]),\n",
       " 'limval': array([0.51559692, 0.51559692, 0.51559692, 0.51559692, 0.51559692,\n",
       "        2.48910759, 0.51559692, 0.51559692, 0.51559692, 0.51559692,\n",
       "        0.51559692, 0.51559692])}"
      ]
     },
     "execution_count": 27,
     "metadata": {},
     "output_type": "execute_result"
    }
   ],
   "source": [
    "DiatLimOrig"
   ]
  },
  {
   "cell_type": "code",
   "execution_count": 28,
   "metadata": {},
   "outputs": [],
   "source": [
    "NutLimDiatOrig=np.where(DiatLimOrig['SiLim']<DiatLimOrig['NLim'],DiatLimOrig['SiLim'],DiatLimOrig['NLim'])\n",
    "NutLimNanoOrig=NanoLimOrig['NLim']\n",
    "NutLimDiatExp=np.where(DiatLimExp['SiLim']<DiatLimExp['NLim'],DiatLimExp['SiLim'],DiatLimExp['NLim'])\n",
    "NutLimNanoExp=NanoLimExp['NLim']"
   ]
  },
  {
   "cell_type": "markdown",
   "metadata": {},
   "source": [
    "### Now calculate diatom to flagellate overall growth ratios (multiply by max growth) when temperature and nutrient responses are considered in isolation:"
   ]
  },
  {
   "cell_type": "markdown",
   "metadata": {},
   "source": [
    "###### * these rates would never occur in the model, even under repleat/optimal conditions, as the maximum of the nutrient and temperature responses are not equal to 1."
   ]
  },
  {
   "cell_type": "code",
   "execution_count": 29,
   "metadata": {},
   "outputs": [],
   "source": [
    "mumaxDiat=nml['zz_rate_r_diat']\n",
    "mumaxNano=nml['zz_rate_r_nano']"
   ]
  },
  {
   "cell_type": "markdown",
   "metadata": {},
   "source": [
    "## Get values to use in summary plots in Figure9_TempNutDependence.ipynb notebook"
   ]
  },
  {
   "cell_type": "code",
   "execution_count": 30,
   "metadata": {},
   "outputs": [
    {
     "data": {
      "text/plain": [
       "array([2.72077093, 2.70944657, 2.68710666, 2.24705017, 2.16685761,\n",
       "       1.55512552, 1.76019174, 1.94827353, 2.50659433, 2.6735886 ,\n",
       "       2.70614202, 2.71361351])"
      ]
     },
     "execution_count": 30,
     "metadata": {},
     "output_type": "execute_result"
    }
   ],
   "source": [
    "mumaxDiat/mumaxNano*NutLimDiatExp/NutLimNanoExp #'CY with WY Nutrients Nutrient dependence only'"
   ]
  },
  {
   "cell_type": "code",
   "execution_count": 31,
   "metadata": {},
   "outputs": [
    {
     "data": {
      "text/plain": [
       "array([2.86842105, 2.86842105, 2.86842105, 2.86842105, 2.54163991,\n",
       "       1.7570548 , 1.61017891, 1.57797733, 2.04603206, 2.86842105,\n",
       "       2.86842105, 2.86842105])"
      ]
     },
     "execution_count": 31,
     "metadata": {},
     "output_type": "execute_result"
    }
   ],
   "source": [
    "mumaxDiat/mumaxNano*TdepDiatExp/TdepNanoExp #'CY with WY Nutrients Temperature dependence only'"
   ]
  },
  {
   "cell_type": "code",
   "execution_count": 32,
   "metadata": {},
   "outputs": [
    {
     "data": {
      "text/plain": [
       "array([2.72077093, 2.70944657, 2.68710666, 2.24705017, 1.92000117,\n",
       "       0.95259403, 0.98807796, 1.07178528, 1.78794265, 2.6735886 ,\n",
       "       2.70614202, 2.71361351])"
      ]
     },
     "execution_count": 32,
     "metadata": {},
     "output_type": "execute_result"
    }
   ],
   "source": [
    "mumaxDiat/mumaxNano*TdepDiatExp/TdepNanoExp*NutLimDiatExp/NutLimNanoExp #'CY with WY Nutrients both'"
   ]
  },
  {
   "cell_type": "code",
   "execution_count": null,
   "metadata": {},
   "outputs": [],
   "source": []
  }
 ],
 "metadata": {
  "kernelspec": {
   "display_name": "Python (py39)",
   "language": "python",
   "name": "py39"
  },
  "language_info": {
   "codemirror_mode": {
    "name": "ipython",
    "version": 3
   },
   "file_extension": ".py",
   "mimetype": "text/x-python",
   "name": "python",
   "nbconvert_exporter": "python",
   "pygments_lexer": "ipython3",
   "version": "3.9.15"
  }
 },
 "nbformat": 4,
 "nbformat_minor": 4
}
